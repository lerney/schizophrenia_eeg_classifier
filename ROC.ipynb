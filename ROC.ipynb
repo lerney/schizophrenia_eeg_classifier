{
 "cells": [
  {
   "cell_type": "code",
   "execution_count": 2,
   "id": "55223044",
   "metadata": {},
   "outputs": [],
   "source": [
    "import pandas as pd\n",
    "import numpy as np\n",
    "from sklearn.metrics import roc_auc_score, roc_curve, auc\n",
    "from sklearn.metrics import confusion_matrix, accuracy_score, recall_score, f1_score\n",
    "from sklearn.preprocessing import StandardScaler\n",
    "from sklearn.ensemble import RandomForestClassifier\n",
    "from sklearn.model_selection import train_test_split\n",
    "import matplotlib.pyplot as plt\n",
    "import seaborn as sns"
   ]
  },
  {
   "cell_type": "code",
   "execution_count": 4,
   "id": "bc20c98f",
   "metadata": {},
   "outputs": [],
   "source": [
    "df=pd.read_csv(r'C:\\Users\\user\\Desktop\\scy-project\\tables\\final_df.csv')"
   ]
  },
  {
   "cell_type": "code",
   "execution_count": 15,
   "id": "a14c9edc",
   "metadata": {},
   "outputs": [
    {
     "name": "stdout",
     "output_type": "stream",
     "text": [
      "SVC with Poly Kernel AUC: 0.97, Accuracy: 0.92\n",
      "SVC with RBF Kernel AUC: 0.93, Accuracy: 0.85\n",
      "Random Forest AUC: 1.00, Accuracy: 0.92\n"
     ]
    }
   ],
   "source": [
    "import pandas as pd\n",
    "from sklearn.model_selection import train_test_split\n",
    "from sklearn.svm import SVC\n",
    "from sklearn.ensemble import RandomForestClassifier\n",
    "from sklearn.metrics import roc_auc_score, accuracy_score\n",
    "\n",
    "# Assuming df is your DataFrame and 'true_labels' is the column with labels\n",
    "X = df.drop(columns=['healthy'])  # Features\n",
    "y = df['healthy']  # Labels\n",
    "\n",
    "# Split the data into training and testing sets\n",
    "X_train, X_test, y_train, y_test = train_test_split(X, y, test_size=0.3, random_state=7)\n",
    "\n",
    "# Initialize models\n",
    "svc_poly = SVC(kernel='poly', C=1.7, probability=True, random_state=42)\n",
    "svc_rbf = SVC(kernel='rbf', C=1.7, probability=True, random_state=42)\n",
    "random_forest = RandomForestClassifier(n_estimators=100, max_depth=4, random_state=42)\n",
    "\n",
    "# Train models\n",
    "svc_poly.fit(X_train, y_train)\n",
    "svc_rbf.fit(X_train, y_train)\n",
    "random_forest.fit(X_train, y_train)\n",
    "\n",
    "# Make predictions\n",
    "y_pred_svc_poly = svc_poly.predict_proba(X_test)[:, 1]\n",
    "y_pred_svc_rbf = svc_rbf.predict_proba(X_test)[:, 1]\n",
    "y_pred_rf = random_forest.predict_proba(X_test)[:, 1]\n",
    "\n",
    "# Evaluate models\n",
    "roc_auc_svc_poly = roc_auc_score(y_test, y_pred_svc_poly)\n",
    "roc_auc_svc_rbf = roc_auc_score(y_test, y_pred_svc_rbf)\n",
    "roc_auc_rf = roc_auc_score(y_test, y_pred_rf)\n",
    "\n",
    "accuracy_svc_poly = accuracy_score(y_test, svc_poly.predict(X_test))\n",
    "accuracy_svc_rbf = accuracy_score(y_test, svc_rbf.predict(X_test))\n",
    "accuracy_rf = accuracy_score(y_test, random_forest.predict(X_test))\n",
    "\n",
    "print(f\"SVC with Poly Kernel AUC: {roc_auc_svc_poly:.2f}, Accuracy: {accuracy_svc_poly:.2f}\")\n",
    "print(f\"SVC with RBF Kernel AUC: {roc_auc_svc_rbf:.2f}, Accuracy: {accuracy_svc_rbf:.2f}\")\n",
    "print(f\"Random Forest AUC: {roc_auc_rf:.2f}, Accuracy: {accuracy_rf:.2f}\")\n"
   ]
  }
 ],
 "metadata": {
  "kernelspec": {
   "display_name": "Python 3 (ipykernel)",
   "language": "python",
   "name": "python3"
  },
  "language_info": {
   "codemirror_mode": {
    "name": "ipython",
    "version": 3
   },
   "file_extension": ".py",
   "mimetype": "text/x-python",
   "name": "python",
   "nbconvert_exporter": "python",
   "pygments_lexer": "ipython3",
   "version": "3.9.16"
  }
 },
 "nbformat": 4,
 "nbformat_minor": 5
}
