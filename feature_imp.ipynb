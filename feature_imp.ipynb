{
 "cells": [
  {
   "cell_type": "code",
   "execution_count": 3,
   "id": "b75d756e",
   "metadata": {},
   "outputs": [],
   "source": [
    "import pandas as pd\n",
    "import matplotlib.pyplot as plt\n",
    "import numpy as np"
   ]
  },
  {
   "cell_type": "code",
   "execution_count": 4,
   "id": "386520f9",
   "metadata": {},
   "outputs": [],
   "source": [
    "norm = pd.read_csv(r\"C:\\Users\\user\\Desktop\\scy-project\\tables\\label_count_norm.csv\")\n",
    "scy = pd.read_csv(r\"C:\\Users\\user\\Desktop\\scy-project\\tables\\label_count_scy.csv\")"
   ]
  },
  {
   "cell_type": "code",
   "execution_count": 1,
   "id": "6473ace0",
   "metadata": {},
   "outputs": [
    {
     "ename": "NameError",
     "evalue": "name 'norm' is not defined",
     "output_type": "error",
     "traceback": [
      "\u001b[1;31m---------------------------------------------------------------------------\u001b[0m",
      "\u001b[1;31mNameError\u001b[0m                                 Traceback (most recent call last)",
      "Cell \u001b[1;32mIn[1], line 6\u001b[0m\n\u001b[0;32m      3\u001b[0m \u001b[38;5;28;01mimport\u001b[39;00m \u001b[38;5;21;01mmatplotlib\u001b[39;00m\u001b[38;5;21;01m.\u001b[39;00m\u001b[38;5;21;01mpyplot\u001b[39;00m \u001b[38;5;28;01mas\u001b[39;00m \u001b[38;5;21;01mplt\u001b[39;00m\n\u001b[0;32m      5\u001b[0m \u001b[38;5;66;03m# Subtract the averages of the two DataFrames\u001b[39;00m\n\u001b[1;32m----> 6\u001b[0m difference \u001b[38;5;241m=\u001b[39m \u001b[43mnorm\u001b[49m\u001b[38;5;241m.\u001b[39mmean() \u001b[38;5;241m-\u001b[39m scy\u001b[38;5;241m.\u001b[39mmean()\n\u001b[0;32m      8\u001b[0m \u001b[38;5;66;03m# Prepare data for Seaborn plotting\u001b[39;00m\n\u001b[0;32m      9\u001b[0m data \u001b[38;5;241m=\u001b[39m {\n\u001b[0;32m     10\u001b[0m     \u001b[38;5;124m'\u001b[39m\u001b[38;5;124mChannel\u001b[39m\u001b[38;5;124m'\u001b[39m: [col \u001b[38;5;28;01mfor\u001b[39;00m col \u001b[38;5;129;01min\u001b[39;00m difference\u001b[38;5;241m.\u001b[39mindex],\n\u001b[0;32m     11\u001b[0m     \u001b[38;5;124m'\u001b[39m\u001b[38;5;124mDifference\u001b[39m\u001b[38;5;124m'\u001b[39m: difference\u001b[38;5;241m.\u001b[39mvalues,\n\u001b[0;32m     12\u001b[0m     \u001b[38;5;124m'\u001b[39m\u001b[38;5;124mLevel\u001b[39m\u001b[38;5;124m'\u001b[39m: [col\u001b[38;5;241m.\u001b[39msplit(\u001b[38;5;124m'\u001b[39m\u001b[38;5;124m-\u001b[39m\u001b[38;5;124m'\u001b[39m)[\u001b[38;5;241m-\u001b[39m\u001b[38;5;241m1\u001b[39m] \u001b[38;5;28;01mfor\u001b[39;00m col \u001b[38;5;129;01min\u001b[39;00m difference\u001b[38;5;241m.\u001b[39mindex]\n\u001b[0;32m     13\u001b[0m }\n",
      "\u001b[1;31mNameError\u001b[0m: name 'norm' is not defined"
     ]
    }
   ],
   "source": [
    "import pandas as pd\n",
    "import seaborn as sns\n",
    "import matplotlib.pyplot as plt\n",
    "\n",
    "# Subtract the averages of the two DataFrames\n",
    "difference = norm.mean() - scy.mean()\n",
    "\n",
    "# Prepare data for Seaborn plotting\n",
    "data = {\n",
    "    'Channel': [col for col in difference.index],\n",
    "    'Difference': difference.values,\n",
    "    'Level': [col.split('-')[-1] for col in difference.index]\n",
    "}\n",
    "plot_df = pd.DataFrame(data)\n",
    "\n",
    "# Set the style of seaborn\n",
    "sns.set(style=\"whitegrid\")\n",
    "\n",
    "# Create the plots\n",
    "fig, axes = plt.subplots(nrows=3, ncols=1, figsize=(12, 18), sharex=True)\n",
    "\n",
    "# Plot for Level L0\n",
    "sns.barplot(data=plot_df[plot_df['Level'] == 'L0'], x='Channel', y='Difference', ax=axes[0], palette='viridis')\n",
    "axes[0].set_title('Difference in Averages for Level L0 (norm-scizo)')\n",
    "axes[0].set_ylabel('Difference')\n",
    "axes[0].tick_params(axis='x', rotation=90)\n",
    "\n",
    "# Plot for Level L1\n",
    "sns.barplot(data=plot_df[plot_df['Level'] == 'L1'], x='Channel', y='Difference', ax=axes[1], palette='viridis')\n",
    "axes[1].set_title('Difference in Averages for Level L1 (norm-scizo)')\n",
    "axes[1].set_ylabel('Difference')\n",
    "axes[1].tick_params(axis='x', rotation=90)\n",
    "\n",
    "# Plot for Level L2\n",
    "sns.barplot(data=plot_df[plot_df['Level'] == 'L2'], x='Channel', y='Difference', ax=axes[2], palette='viridis')\n",
    "axes[2].set_title('Difference in Averages for Level L2 (norm-scizo)')\n",
    "axes[2].set_xlabel('Channels')\n",
    "axes[2].set_ylabel('Difference')\n",
    "axes[2].tick_params(axis='x', rotation=90)\n",
    "\n",
    "\n",
    "# Adjust layout\n",
    "plt.tight_layout()\n",
    "\n",
    "plt.savefig('difference_plots_norm_minus_scy.jpeg', format='jpeg')\n",
    "\n",
    "\n",
    "plt.show()\n",
    "\n",
    "\n"
   ]
  }
 ],
 "metadata": {
  "kernelspec": {
   "display_name": "Python 3 (ipykernel)",
   "language": "python",
   "name": "python3"
  },
  "language_info": {
   "codemirror_mode": {
    "name": "ipython",
    "version": 3
   },
   "file_extension": ".py",
   "mimetype": "text/x-python",
   "name": "python",
   "nbconvert_exporter": "python",
   "pygments_lexer": "ipython3",
   "version": "3.9.16"
  }
 },
 "nbformat": 4,
 "nbformat_minor": 5
}
